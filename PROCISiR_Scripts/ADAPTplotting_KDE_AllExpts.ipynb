{
 "cells": [
  {
   "cell_type": "code",
   "execution_count": 33,
   "metadata": {
    "collapsed": true,
    "deletable": true,
    "editable": true
   },
   "outputs": [],
   "source": [
    "import matplotlib\n",
    "import matplotlib.pyplot as plt\n",
    "import numpy as np\n",
    "import pandas as pd\n",
    "import seaborn as sns;\n",
    "%matplotlib inline   "
   ]
  },
  {
   "cell_type": "markdown",
   "metadata": {
    "deletable": true,
    "editable": true
   },
   "source": [
    "## Change elements below for each experiment"
   ]
  },
  {
   "cell_type": "code",
   "execution_count": 34,
   "metadata": {
    "collapsed": true,
    "deletable": true,
    "editable": true
   },
   "outputs": [],
   "source": [
    "expt=['All_TLstables','TIAMstables','LARGstables']\n",
    "wells=['Condition1','Condition2','Condition3','Condition4','Condition5','Condition6','Condition7' ]\n",
    "\n",
    "colors=['#aaaaaa','#6ABD45','#3C56A6']\n",
    "#gray, green, blue \n",
    "\n",
    "inpath='Inpath_here'\n",
    "\n",
    "\n",
    "font = {'family' : 'Arial',\n",
    "        'weight' : 'normal',\n",
    "        'size'   : 14}\n",
    "\n",
    "matplotlib.rc('font', **font)\n"
   ]
  },
  {
   "cell_type": "markdown",
   "metadata": {
    "deletable": true,
    "editable": true
   },
   "source": [
    "## Read in each well for one stat and normalize each cell"
   ]
  },
  {
   "cell_type": "code",
   "execution_count": 35,
   "metadata": {
    "collapsed": false,
    "deletable": true,
    "editable": true
   },
   "outputs": [],
   "source": [
    "def normStat(stat,filepath):    #add in passedCells for filtering by fluor\n",
    "    allwellsonestat=[]\n",
    "    for w in wells:\n",
    "        cellDeltaList=[]\n",
    "        filename=filepath+w+'_'+stat+'.csv'\n",
    "        statdf=pd.read_csv(filename)\n",
    "        statdf=statdf.iloc[:,1:]   #get rid of extra index column\n",
    "        \n",
    "        for cell, data in statdf.iteritems():   #iterate over columns\n",
    "        \n",
    "            allwellsonestat.append(statdf[cell].iloc[0])\n",
    "                     \n",
    "        \n",
    "    return allwellsonestat    #list of dfs: list of wells, with df of all cells in each well\n",
    "        \n",
    "    "
   ]
  },
  {
   "cell_type": "markdown",
   "metadata": {
    "deletable": true,
    "editable": true
   },
   "source": [
    "## Plot all wells for each stat"
   ]
  },
  {
   "cell_type": "code",
   "execution_count": 36,
   "metadata": {
    "collapsed": false,
    "deletable": true,
    "editable": true
   },
   "outputs": [
    {
     "name": "stdout",
     "output_type": "stream",
     "text": [
      "2028\n",
      "2232\n",
      "2016\n",
      "2028\n",
      "2232\n",
      "2016\n",
      "2028\n",
      "2232\n",
      "2016\n",
      "2028\n",
      "2232\n",
      "2016\n",
      "2028\n",
      "2232\n",
      "2016\n"
     ]
    },
    {
     "data": {
      "text/plain": [
       "<matplotlib.figure.Figure at 0x1153f9050>"
      ]
     },
     "metadata": {},
     "output_type": "display_data"
    }
   ],
   "source": [
    "stats=['Area','Perim','Circ','Solidity','Round'] \n",
    "\n",
    "for s in range(5):\n",
    "    \n",
    "    allexpts=[]\n",
    "    for i, a in enumerate(expt):\n",
    "        filepath=inpath+a+'/'\n",
    "        allexpts.append(normStat(stats[s],filepath))\n",
    "        \n",
    "    \n",
    "    for i, a in enumerate(allexpts):\n",
    "        print len(a)\n",
    "        xtitle=stats[s]\n",
    "        ytitle='Probability'\n",
    "        ax = sns.kdeplot(a, color=colors[i], linewidth=4)  \n",
    "        ax.set_ylabel(ytitle)\n",
    "        ax.set_xlabel(xtitle)\n",
    "        \n",
    "        if s==0:\n",
    "            ax.set_xlim([0,7000])\n",
    "            ax.xaxis.set_ticks([0,2000,4000,6000])\n",
    "            ax.yaxis.set_ticks([0.0000,0.0002,0.0004])\n",
    "        if s==1:\n",
    "            ax.set_xlim([0,600])\n",
    "            ax.xaxis.set_ticks([0,200,400,600])\n",
    "            ax.yaxis.set_ticks([0.000,0.002,0.004])\n",
    "        if s==2:\n",
    "            ax.set_xlim([0,1.0])\n",
    "            ax.xaxis.set_ticks([0.00,0.25,0.50,0.75,1.0])\n",
    "            ax.yaxis.set_ticks([0,1,2])\n",
    "        if s==3:\n",
    "            ax.set_xlim([0.4,1.0])\n",
    "            ax.xaxis.set_ticks([0.4,0.6,0.8,1.0])\n",
    "            ax.yaxis.set_ticks([0,2,4])\n",
    "   \n",
    "        outpath='Outpath_here'\n",
    "        #plt.tight_layout()\n",
    "        plt.savefig(outpath+stats[s]+'.png', dpi=200)\n",
    "  \n",
    "    plt.clf()   \n",
    "\n",
    "\n",
    "\n"
   ]
  },
  {
   "cell_type": "code",
   "execution_count": null,
   "metadata": {
    "collapsed": true,
    "deletable": true,
    "editable": true
   },
   "outputs": [],
   "source": []
  }
 ],
 "metadata": {
  "kernelspec": {
   "display_name": "Python 2",
   "language": "python",
   "name": "python2"
  },
  "language_info": {
   "codemirror_mode": {
    "name": "ipython",
    "version": 2
   },
   "file_extension": ".py",
   "mimetype": "text/x-python",
   "name": "python",
   "nbconvert_exporter": "python",
   "pygments_lexer": "ipython2",
   "version": "2.7.13"
  }
 },
 "nbformat": 4,
 "nbformat_minor": 0
}
