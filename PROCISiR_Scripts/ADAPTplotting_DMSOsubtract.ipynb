{
 "cells": [
  {
   "cell_type": "code",
   "execution_count": 45,
   "metadata": {
    "collapsed": true,
    "deletable": true,
    "editable": true
   },
   "outputs": [],
   "source": [
    "import matplotlib\n",
    "import matplotlib.pyplot as plt\n",
    "import numpy as np\n",
    "import pandas as pd\n",
    "%matplotlib inline   "
   ]
  },
  {
   "cell_type": "markdown",
   "metadata": {
    "deletable": true,
    "editable": true
   },
   "source": [
    "## Change elements below for each experiment"
   ]
  },
  {
   "cell_type": "code",
   "execution_count": 46,
   "metadata": {
    "collapsed": false,
    "deletable": true,
    "editable": true
   },
   "outputs": [],
   "source": [
    "expt='All_TLstables'\n",
    "\n",
    "wells=['Condition1','Condition2','Condition3','Condition4','Condition5','Condition6','Condition7' ]\n",
    "\n",
    "colors=['#ef5847','#2993ff','#64abff','#25d1f6','#71f7ff','#ffba0c','#aaaaaa']\n",
    "# g, d, dmso, asun: '#ffba0c','#ef5847','#aaaaaa','#a39cd3'\n",
    "\n",
    "inpath='Inpath_here'\n",
    "\n",
    "\n",
    "font = {'family' : 'Arial',\n",
    "        'weight' : 'normal',\n",
    "        'size'   : 16}\n",
    "\n",
    "matplotlib.rc('font', **font)\n"
   ]
  },
  {
   "cell_type": "markdown",
   "metadata": {
    "deletable": true,
    "editable": true
   },
   "source": [
    "## Read in each well for one stat and normalize each cell"
   ]
  },
  {
   "cell_type": "code",
   "execution_count": 47,
   "metadata": {
    "collapsed": false,
    "deletable": true,
    "editable": true
   },
   "outputs": [],
   "source": [
    "def normStat(stat):    \n",
    "    allwellsonestat=[]\n",
    "    for w in wells:\n",
    "        filename=inpath+w+'_'+stat+'.csv'\n",
    "        statdf=pd.read_csv(filename)\n",
    "        statdf=statdf.iloc[:,1:]   #get rid of extra index column\n",
    "        \n",
    "        for cell, data in statdf.iteritems():   #iterate over columns          \n",
    "            base=data.iloc[0]     #normalize to first frame\n",
    "            data=data/base\n",
    "            statdf[cell]=data\n",
    "                \n",
    "            \n",
    "        allwellsonestat.append(statdf)   #use list to keep in order of well\n",
    "        \n",
    "    return allwellsonestat\n",
    "        \n",
    "    "
   ]
  },
  {
   "cell_type": "markdown",
   "metadata": {
    "deletable": true,
    "editable": true
   },
   "source": [
    "## Plot all wells for each stat"
   ]
  },
  {
   "cell_type": "code",
   "execution_count": 48,
   "metadata": {
    "collapsed": false,
    "deletable": true,
    "editable": true
   },
   "outputs": [
    {
     "data": {
      "text/plain": [
       "<matplotlib.figure.Figure at 0x1245ae950>"
      ]
     },
     "metadata": {},
     "output_type": "display_data"
    }
   ],
   "source": [
    "\n",
    "time_index=[-8,-6,-4,-2,0,2,4,6,8,10,12,14,16,18,20,22,24,26,28,30,32,34,36,38,40,42,44,46,48,50,52,54,56,58,60]\n",
    "xlabels=[-8, 0, 10, 20, 30, 40, 50, 60]\n",
    "\n",
    "for s in range(6):\n",
    "\n",
    "    stats=['Area','Perim','Circ','AR','Round','Solidity']\n",
    "\n",
    "    allwells=normStat(stats[s])  \n",
    "    \n",
    "    ###DMSO subtract\n",
    "    dmsomean=allwells[6].mean(axis=1)\n",
    "    dmsostd=allwells[6].sem(axis=1)\n",
    "    dmsomean.index=time_index\n",
    "    dmsostd.index=time_index   \n",
    "\n",
    "    for i, a in enumerate(allwells):\n",
    "        \n",
    "        wellmean=a.mean(axis=1)   #mean across columns\n",
    "        #wellstd=a.std(axis=1)\n",
    "        wellstd=a.sem(axis=1)         ###SEM\n",
    "        wellmean.index=time_index\n",
    "        wellstd.index=time_index\n",
    "        \n",
    "        ###DMSO subtraction\n",
    "        wellmean=wellmean-dmsomean\n",
    "        inside=wellstd.apply(np.square)+dmsostd.apply(np.square)\n",
    "        wellstd=inside.apply(np.sqrt)\n",
    "        \n",
    "        numcells=len(a.columns)\n",
    "        #print wells[i]+' '+str(numcells)\n",
    "        \n",
    "        if i!=6:\n",
    "            plt.axhline(y=0, color='0.5', linewidth=0.5, zorder=0 )\n",
    "            plt.plot(wellmean, color=colors[i], linewidth=3, label=wells[i])\n",
    "            ytitle=stats[s]+' (baseline normalized)'\n",
    "            plt.ylabel(ytitle)\n",
    "            #plt.legend(loc='upper left', fontsize=12)\n",
    "            plt.fill_between(wellstd.index.values, wellmean-wellstd, wellmean+wellstd, alpha=0.1, edgecolor='None', color=colors[i])\n",
    "            plt.xticks(xlabels)\n",
    "            plt.xlabel('Time (min)')\n",
    "            plt.axvline(x=0, linewidth=0.5, color='0.5')\n",
    "            plt.xlim([-8,60])\n",
    "            \n",
    "            #Enforce same y limits\n",
    "            if s==0:\n",
    "                plt.ylim([-0.10, 0.15])\n",
    "            if s==1:\n",
    "                plt.ylim([-0.20, 0.15])\n",
    "            if s==2:\n",
    "                plt.ylim([-0.1, 0.40])\n",
    "            if s==5:\n",
    "                plt.ylim([-0.05, 0.15])\n",
    "            \n",
    "            outpath='Outpath_here'\n",
    "            fig = plt.gcf()\n",
    "            fig.set_size_inches(12,3.8)\n",
    "            plt.tight_layout()\n",
    "            plt.savefig(outpath+expt+'_'+stats[s]+'.png', dpi=200)\n",
    "        \n",
    "    plt.clf()   \n",
    "\n",
    "\n",
    "\n"
   ]
  },
  {
   "cell_type": "code",
   "execution_count": null,
   "metadata": {
    "collapsed": true,
    "deletable": true,
    "editable": true
   },
   "outputs": [],
   "source": []
  }
 ],
 "metadata": {
  "kernelspec": {
   "display_name": "Python 2",
   "language": "python",
   "name": "python2"
  },
  "language_info": {
   "codemirror_mode": {
    "name": "ipython",
    "version": 2
   },
   "file_extension": ".py",
   "mimetype": "text/x-python",
   "name": "python",
   "nbconvert_exporter": "python",
   "pygments_lexer": "ipython2",
   "version": "2.7.13"
  }
 },
 "nbformat": 4,
 "nbformat_minor": 0
}
