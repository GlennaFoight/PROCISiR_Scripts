{
 "cells": [
  {
   "cell_type": "code",
   "execution_count": 7,
   "metadata": {
    "collapsed": false,
    "deletable": true,
    "editable": true
   },
   "outputs": [],
   "source": [
    "import matplotlib\n",
    "import matplotlib.pyplot as plt\n",
    "import numpy as np\n",
    "import pandas as pd\n",
    "import os\n",
    "import re\n",
    "%matplotlib inline   "
   ]
  },
  {
   "cell_type": "markdown",
   "metadata": {
    "deletable": true,
    "editable": true
   },
   "source": [
    "## Change elements below"
   ]
  },
  {
   "cell_type": "code",
   "execution_count": 8,
   "metadata": {
    "collapsed": false,
    "deletable": true,
    "editable": true
   },
   "outputs": [],
   "source": [
    "expts=['071018_TL']\n",
    "wells=[['C03','C04','C05','C06','C07','C08']]\n",
    "sites=[9]\n",
    "conditions={'Condition1': ['071018_TL_C03'],\n",
    "           'Condition2': ['071018_TL_C04'],\n",
    "           'Condition3': ['071018_TL_C05'],\n",
    "           'Condition4': ['071018_TL_C06'],\n",
    "           'Condition5': ['071018_TL_C07'],\n",
    "           'Condition6': ['071018_TL_C08']}\n",
    "\n",
    "\n",
    "\n",
    "framemax=28      \n",
    "\n",
    "inpath='Inpath_here'\n",
    "\n",
    "##TL_Cutoffs\n",
    "area90=3997.338161\n",
    "perim90=546.636073\n",
    "circ95=0.851634\n",
    "round95=0.884005\n",
    "solidity95= 0.942082\n",
    "gfp5=544.586362\n",
    "\n",
    "##Ii cutoffs\n",
    "#area90=4332.853226\n",
    "#perim90=676.561390\n",
    "#circ95=0.834039\n",
    "#round95=0.857243 \n",
    "#solidity95=0.934887\n",
    "#gfp5=479.339356\n",
    "\n",
    "\n",
    "\n"
   ]
  },
  {
   "cell_type": "markdown",
   "metadata": {
    "deletable": true,
    "editable": true
   },
   "source": [
    "# Get mean Fluor intensity for each cell"
   ]
  },
  {
   "cell_type": "code",
   "execution_count": 9,
   "metadata": {
    "collapsed": true,
    "deletable": true,
    "editable": true
   },
   "outputs": [],
   "source": [
    "def getGFPmean(e,w,s,cell):\n",
    "    \n",
    "    #parse name to get path to input file:\n",
    "    cellnum=re.search(r\"Cell_([0-9]*)\", cell)\n",
    "    cellnum=cellnum.group(1)\n",
    "    sitePath=inpath+'/well'+w+'/Adapt_v1.189/'+e+'_'+w+'_s'+str(s+1)+'_w2_Output/'\n",
    "    #Ii#sitePath=inpath+'/well'+w+'/Adapt_v1.189/'+e+'_'+w+'_w2_'+'s'+str(s+1)+'_Output/'\n",
    "    #NovDec#sitePath=inpath+e+'/'+e+'_w2/well'+w+'/Adapt_v1.189/'+e+'_w2_'+w+'_s'+str(s+1)+'_Output/'\n",
    "    fname=sitePath+str(cellnum)+'_Output/MeanFluorescenceIntensity.csv' \n",
    "    \n",
    "    #get mean of first frame fluor intensity\n",
    "    filedf=pd.read_csv(fname, index_col=0)\n",
    "    firstframe=filedf.iloc[:,0]\n",
    "    gfpmean=firstframe.mean()     \n",
    "    \n",
    "    return gfpmean\n",
    "    \n",
    "    "
   ]
  },
  {
   "cell_type": "code",
   "execution_count": null,
   "metadata": {
    "collapsed": true,
    "deletable": true,
    "editable": true
   },
   "outputs": [],
   "source": []
  },
  {
   "cell_type": "code",
   "execution_count": 10,
   "metadata": {
    "collapsed": true,
    "deletable": true,
    "editable": true
   },
   "outputs": [],
   "source": [
    "def statsFiltering(df):    #cell stat dataframe\n",
    "    \n",
    "    test=1\n",
    "    #for i in range(len(df)):   #requires that area and perim be high in same frame\n",
    "    #    if (df.Area.iloc[i] > area90).all() and (df.Perim.iloc[i] > perim90).all():    #all frames\n",
    "    #        test=0\n",
    "    \n",
    "    for i in range(len(df)):   #requires that area and perim be high ANY same frame\n",
    "        if (df.Area.iloc[i] > area90).all() or (df.Perim.iloc[i] > perim90).all():    #all frames\n",
    "            test=0\n",
    "            \n",
    "    if (df.Circ.iloc[0] > circ95).all():    #first frame\n",
    "        if (df.Round.iloc[0] > round95).all():    #first frame\n",
    "            if (df.Solidity.iloc[0] > solidity95).all():    #first frame\n",
    "                test=0\n",
    "    \n",
    "    return test    #true if the cell passes\n",
    "                        "
   ]
  },
  {
   "cell_type": "markdown",
   "metadata": {
    "deletable": true,
    "editable": true
   },
   "source": [
    "## Get stats dataframe for each cell and remove cells not present in all frames"
   ]
  },
  {
   "cell_type": "code",
   "execution_count": 11,
   "metadata": {
    "collapsed": false,
    "deletable": true,
    "editable": true
   },
   "outputs": [],
   "source": [
    "##Get cell names and indices in file\n",
    "\n",
    "def wellstats(expt,well,sitenum):\n",
    "    arealist=[]\n",
    "    perimlist=[]\n",
    "    circlist=[]\n",
    "    ARlist=[]\n",
    "    roundlist=[]\n",
    "    soliditylist=[]\n",
    "    for s in range(sitenum):\n",
    "        inputfilename=inpath+'/well'+w+'/Adapt_v1.189/'+e+'_'+w+'_s'+str(s+1)+'_w2_Output/morphology.txt'\n",
    "        #Ii#inputfilename=inpath+'/well'+well+'/Adapt_v1.189/'+expt+'_'+well+'_w2_'+'s'+str(s+1)+'_Output/morphology.txt'\n",
    "        #Nov-Dec#inputfilename=inpath+expt+'/'+expt+'_w2/well'+well+'/Adapt_v1.189/'+expt+'_w2_'+well+'_s'+str(s+1)+'_Output/morphology.txt'\n",
    "\n",
    "        if os.path.getsize(inputfilename) > 0:     #to deal with empty morph files.\n",
    "            all_data = pd.read_csv(inputfilename, sep='\\t')\n",
    "            all_data=all_data.rename(columns={' ':'Cell'})\n",
    "            cellindices=[]\n",
    "            celllabels=[]\n",
    "            for i in range(len(all_data.index)):\n",
    "                if 'Cell_' in all_data.Cell.iloc[i]:\n",
    "                    cellindices.append(i)\n",
    "                    celllabels.append(all_data.Cell.iloc[i])\n",
    "\n",
    "            ##Get frame rows for each cell and make dataframe for each\n",
    "            ##Name each dataframe well_site_cell and put into dictionary\n",
    "\n",
    "            last=len(all_data.index)\n",
    "            cellindices=cellindices+[last]\n",
    "            base=cellindices[len(cellindices)-2]\n",
    "            cellindices[:0]=[0]\n",
    "\n",
    "            celldict={}\n",
    "\n",
    "            for n, c in enumerate(cellindices):\n",
    "                if n==0:\n",
    "                    dfslice=all_data.iloc[(base+cellindices[n+1]-cellindices[n]+1):(base+cellindices[n+2]-cellindices[n+1]),:]\n",
    "                    name=expt+'_'+well+'_s'+str(s+1)+'_'+celllabels[n]\n",
    "                    celldict[name]=dfslice\n",
    "                elif n<len(cellindices)-2:\n",
    "                    dfslice=all_data.iloc[(base+cellindices[n+1]-cellindices[n]):(base+cellindices[n+2]-cellindices[n+1]),:]\n",
    "                    name=expt+'_'+well+'_s'+str(s+1)+'_'+celllabels[n]\n",
    "                    celldict[name]=dfslice\n",
    "\n",
    "\n",
    "            ##Go through cell dictionary and remove elements with less than framemax number of frames\n",
    "\n",
    "            fullcells={}\n",
    "\n",
    "            for name, df in celldict.iteritems():\n",
    "                if len(df)>=framemax:\n",
    "                    df=df.rename(columns={' ':'Cell', 'Perim.':'Perim', 'Circ.':'Circ', })\n",
    "                    fullcells[name]=df\n",
    "                \n",
    "                \n",
    "                ###Nov-Dec\n",
    "                #if len(df)==framemax:\n",
    "                #    df=df.rename(columns={' ':'Cell', 'Perim.':'Perim', 'Circ.':'Circ', })\n",
    "                #    fullcells[name]=df\n",
    "\n",
    "            #Filter each cell on cutoffs\n",
    "            \n",
    "            #fullcellsDF=pd.concat(fullcells)\n",
    "            #fullcellsDF.to_csv('/Users/glennafoight/Dropbox (Personal)/Dimerizer/Microscopy/Nov2018_MembAnalysis/TL_repC_C01.csv')\n",
    "\n",
    "            passingcells={}\n",
    "            for name, df in fullcells.iteritems():\n",
    "                juststats=df.iloc[:,1:]\n",
    "                juststats=juststats.reset_index(drop=True)\n",
    "                ##get GFP mean fluorescence and only continue for cells passing GFP cutoff\n",
    "                gfpmean=getGFPmean(expt,well,s,name)\n",
    "                \n",
    "                if gfpmean > gfp5:\n",
    "                    test=statsFiltering(juststats)\n",
    "                    if test: #If the cell passes the GFP and Stats cutoffs, then include\n",
    "                        passingcells[name]=juststats    #dictionary with keys=cell names, values=all stats df\n",
    "                        \n",
    "\n",
    "            #Make stat lists for all cells in a site:\n",
    "            for n, cdf in passingcells.iteritems():\n",
    "\n",
    "                areaS=pd.Series(cdf['Area'], name=n)  \n",
    "                arealist.append(areaS)\n",
    "        \n",
    "                perimS=pd.Series(cdf['Perim'], name=n)  \n",
    "                perimlist.append(perimS)\n",
    "        \n",
    "                circS=pd.Series(cdf['Circ'], name=n)  \n",
    "                circlist.append(circS)\n",
    "            \n",
    "                ARS=pd.Series(cdf['AR'], name=n)  \n",
    "                ARlist.append(ARS)\n",
    "        \n",
    "                roundS=pd.Series(cdf['Round'], name=n)  \n",
    "                roundlist.append(roundS)\n",
    "        \n",
    "                solidityS=pd.Series(cdf['Solidity'], name=n)  \n",
    "                soliditylist.append(solidityS)\n",
    "                \n",
    "    areadf=pd.concat(arealist, axis=1)    #concat all cells in each site\n",
    "    perimdf=pd.concat(perimlist, axis=1)    #concat all cells in each site\n",
    "    circdf=pd.concat(circlist, axis=1)    #concat all cells in each site\n",
    "    ARdf=pd.concat(ARlist, axis=1)    #concat all cells in each site\n",
    "    rounddf=pd.concat(roundlist, axis=1)    #concat all cells in each site\n",
    "    soliditydf=pd.concat(soliditylist, axis=1)    #concat all cells in each site\n",
    "                \n",
    "                \n",
    "    wellstatlist=[areadf,perimdf,circdf,ARdf,rounddf,soliditydf]    \n",
    "    return wellstatlist\n",
    "        "
   ]
  },
  {
   "cell_type": "markdown",
   "metadata": {
    "deletable": true,
    "editable": true
   },
   "source": [
    "## Main"
   ]
  },
  {
   "cell_type": "code",
   "execution_count": 12,
   "metadata": {
    "collapsed": false,
    "deletable": true,
    "editable": true
   },
   "outputs": [],
   "source": [
    "##Process morphology.txt files and get stat means for each cell\n",
    "\n",
    "totaldict={}\n",
    "for i, e in enumerate(expts):\n",
    "    wellstatlist=[]\n",
    "    for w in wells[i]:\n",
    "        wellstatlist=wellstats(e,w,sites[i])\n",
    "        keyname=e+'_'+w\n",
    "        totaldict[keyname]=wellstatlist\n",
    "        \n",
    "\n",
    "stats=['Area','Perim','Circ','AR','Round','Solidity']    \n",
    "\n",
    "for k, v in conditions.iteritems():\n",
    "\n",
    "    for s in range(6):\n",
    "        outfilename='/Users/glennafoight/Dropbox (Personal)/Dimerizer/Microscopy/071018_3T3_Reprocessing/TL/'+k+'_'+stats[s]+'.csv'\n",
    "        replist=[]\n",
    "        for rep in v:\n",
    "            replist.append(totaldict[rep][s])\n",
    "        conditiondf=pd.concat(replist, axis=1)\n",
    "        conditiondf.to_csv(outfilename)     #Outputs csvs for each stat for each condition\n",
    "\n",
    "\n",
    "        \n",
    "        "
   ]
  },
  {
   "cell_type": "code",
   "execution_count": null,
   "metadata": {
    "collapsed": true,
    "deletable": true,
    "editable": true
   },
   "outputs": [],
   "source": []
  }
 ],
 "metadata": {
  "kernelspec": {
   "display_name": "Python 2",
   "language": "python",
   "name": "python2"
  },
  "language_info": {
   "codemirror_mode": {
    "name": "ipython",
    "version": 2
   },
   "file_extension": ".py",
   "mimetype": "text/x-python",
   "name": "python",
   "nbconvert_exporter": "python",
   "pygments_lexer": "ipython2",
   "version": "2.7.13"
  }
 },
 "nbformat": 4,
 "nbformat_minor": 0
}
