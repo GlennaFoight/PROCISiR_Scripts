{
 "cells": [
  {
   "cell_type": "code",
   "execution_count": 61,
   "metadata": {
    "collapsed": false,
    "deletable": true,
    "editable": true
   },
   "outputs": [],
   "source": [
    "import matplotlib\n",
    "import matplotlib.pyplot as plt\n",
    "import numpy as np\n",
    "import pandas as pd\n",
    "import os\n",
    "import re\n",
    "%matplotlib inline   "
   ]
  },
  {
   "cell_type": "markdown",
   "metadata": {
    "deletable": true,
    "editable": true
   },
   "source": [
    "## Change elements below"
   ]
  },
  {
   "cell_type": "code",
   "execution_count": 62,
   "metadata": {
    "collapsed": false,
    "deletable": true,
    "editable": true
   },
   "outputs": [],
   "source": [
    "expts=['071018_Ii']\n",
    "wells=[['D03','D04','D05','D06','D07','D08']]\n",
    "sites=[9]\n",
    "\n",
    "framemax=28      #35 for Nov2018 on, 29 for 071018\n",
    "\n",
    "inpath='Put_input_path_here'\n",
    "\n",
    "outfile='Output_path/___means.csv'\n"
   ]
  },
  {
   "cell_type": "markdown",
   "metadata": {
    "deletable": true,
    "editable": true
   },
   "source": [
    "# Get mean Fluor intensity for each cell"
   ]
  },
  {
   "cell_type": "code",
   "execution_count": 63,
   "metadata": {
    "collapsed": true,
    "deletable": true,
    "editable": true
   },
   "outputs": [],
   "source": [
    "def getGFPmean(e,w,s,cell):\n",
    "    \n",
    "    #parse name to get path to input file:\n",
    "    cellnum=re.search(r\"Cell_([0-9]*)\", cell)\n",
    "    cellnum=cellnum.group(1)\n",
    "    sitePath=inpath+'/well'+w+'/Adapt_v1.189/'+e+'_'+w+'_w2_'+'s'+str(s+1)+'_Output/'\n",
    "    fname=sitePath+str(cellnum)+'_Output/MeanFluorescenceIntensity.csv' \n",
    "    \n",
    "    #get mean of first frame fluor intensity\n",
    "    filedf=pd.read_csv(fname, index_col=0)\n",
    "    firstframe=filedf.iloc[:,0]\n",
    "    gfpmean=firstframe.mean()    #dictionary of cellname (key), cell mean (value) pairs  \n",
    "    \n",
    "    return gfpmean\n",
    "    \n",
    "    "
   ]
  },
  {
   "cell_type": "markdown",
   "metadata": {
    "deletable": true,
    "editable": true
   },
   "source": [
    "## Get stats dataframe for each cell and remove cells not present in all frames"
   ]
  },
  {
   "cell_type": "code",
   "execution_count": 64,
   "metadata": {
    "collapsed": false,
    "deletable": true,
    "editable": true
   },
   "outputs": [],
   "source": [
    "##Get cell names and indices in file\n",
    "\n",
    "def wellstats(expt,well,sitenum):\n",
    "    sitelist=[]\n",
    "    for s in range(sitenum):\n",
    "        \n",
    "        inputfilename=inpath+'/well'+well+'/Adapt_v1.189/'+expt+'_'+well+'_w2_'+'s'+str(s+1)+'_Output/morphology.txt'\n",
    "               \n",
    "        if os.path.getsize(inputfilename) > 0:     #to deal with empty morph files.\n",
    "            all_data = pd.read_csv(inputfilename, sep='\\t')\n",
    "            all_data=all_data.rename(columns={' ':'Cell'})\n",
    "            cellindices=[]\n",
    "            celllabels=[]\n",
    "            for i in range(len(all_data.index)):\n",
    "                if 'Cell_' in all_data.Cell.iloc[i]:\n",
    "                    cellindices.append(i)\n",
    "                    celllabels.append(all_data.Cell.iloc[i])\n",
    "\n",
    "            ##Get frame rows for each cell and make dataframe for each\n",
    "            ##Name each dataframe well_site_cell and put into dictionary\n",
    "\n",
    "            last=len(all_data.index)\n",
    "            cellindices=cellindices+[last]\n",
    "            base=cellindices[len(cellindices)-2]\n",
    "            cellindices[:0]=[0]\n",
    "\n",
    "            celldict={}\n",
    "\n",
    "            for n, c in enumerate(cellindices):\n",
    "                if n==0:\n",
    "                    dfslice=all_data.iloc[(base+cellindices[n+1]-cellindices[n]+1):(base+cellindices[n+2]-cellindices[n+1]),:]\n",
    "                    name=expt+'_'+well+'_s'+str(s+1)+'_'+celllabels[n]\n",
    "                    celldict[name]=dfslice\n",
    "                elif n<len(cellindices)-2:\n",
    "                    dfslice=all_data.iloc[(base+cellindices[n+1]-cellindices[n]):(base+cellindices[n+2]-cellindices[n+1]),:]\n",
    "                    name=expt+'_'+well+'_s'+str(s+1)+'_'+celllabels[n]\n",
    "                    celldict[name]=dfslice\n",
    "\n",
    "\n",
    "            ##Go through cell dictionary and remove elements with less than framemax number of frames\n",
    "\n",
    "            fullcells={}\n",
    "\n",
    "            for name, df in celldict.iteritems():\n",
    "                #print name+' '+str(len(df))\n",
    "                \n",
    "                \n",
    "                if len(df)>=framemax:    #for 071018\n",
    "                    fullcells[name]=df\n",
    "                \n",
    "                \n",
    "                #if len(df)==framemax:     #for Nov-Dec 2018\n",
    "                #    fullcells[name]=df\n",
    "\n",
    "            #Get means of each stat for each cell \n",
    "\n",
    "            dflist=[]\n",
    "            for name, df in fullcells.iteritems():\n",
    "                juststats=df.iloc[:,1:]\n",
    "                statsdf=pd.DataFrame(juststats.mean(), columns=[name])\n",
    "                statsdf=statsdf.T\n",
    "                ##get GFP mean fluorescence and append as column here:\n",
    "                gfpmean=getGFPmean(expt,well,s,name)\n",
    "                statsdf['FluorMean']=gfpmean\n",
    "                #append full means df for each cell:\n",
    "                dflist.append(statsdf)\n",
    "                \n",
    "            sitedf=pd.concat(dflist)\n",
    "            sitelist.append(sitedf)\n",
    "                \n",
    "    welldf=pd.concat(sitelist)    \n",
    "    return welldf\n",
    "        "
   ]
  },
  {
   "cell_type": "markdown",
   "metadata": {
    "deletable": true,
    "editable": true
   },
   "source": [
    "## Main"
   ]
  },
  {
   "cell_type": "code",
   "execution_count": 65,
   "metadata": {
    "collapsed": false,
    "deletable": true,
    "editable": true
   },
   "outputs": [],
   "source": [
    "##Process morphology.txt files and get stat means for each cell\n",
    "\n",
    "totallist=[]\n",
    "for i, e in enumerate(expts):\n",
    "    exptlist=[]\n",
    "    for w in wells[i]:\n",
    "        welldf=wellstats(e,w,sites[i])\n",
    "        exptlist.append(welldf)\n",
    "        \n",
    "    exptdf=pd.concat(exptlist)\n",
    "    totallist.append(exptdf)    \n",
    "    \n",
    "statmeansdf=pd.concat(totallist)  #dataframe with all cells as rows, and all 7 means as columns\n",
    "\n",
    "##output full csv\n",
    "statmeansdf.to_csv(outfile)\n",
    "        \n",
    "        "
   ]
  }
 ],
 "metadata": {
  "kernelspec": {
   "display_name": "Python 2",
   "language": "python",
   "name": "python2"
  },
  "language_info": {
   "codemirror_mode": {
    "name": "ipython",
    "version": 2
   },
   "file_extension": ".py",
   "mimetype": "text/x-python",
   "name": "python",
   "nbconvert_exporter": "python",
   "pygments_lexer": "ipython2",
   "version": "2.7.13"
  }
 },
 "nbformat": 4,
 "nbformat_minor": 0
}
