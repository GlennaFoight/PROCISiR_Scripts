{
 "cells": [
  {
   "cell_type": "code",
   "execution_count": 2,
   "metadata": {
    "collapsed": false
   },
   "outputs": [],
   "source": [
    "import matplotlib\n",
    "import numpy as np\n",
    "import matplotlib.pyplot as plt\n",
    "from scipy.interpolate import interp1d\n",
    "\n",
    "cell1 = np.genfromtxt(\"030417_pos4.csv\", delimiter=\",\")\n",
    "cell2 = np.genfromtxt(\"030417_pos5.csv\", delimiter=\",\")\n",
    "cell3 = np.genfromtxt(\"030417_pos6.csv\", delimiter=\",\")\n",
    "cell4 = np.genfromtxt(\"plate1_cell1.csv\", delimiter=\",\")\n",
    "cell5 = np.genfromtxt(\"plate1_cell2.csv\", delimiter=\",\")\n",
    "cell6 = np.genfromtxt(\"plate1_cell3.csv\", delimiter=\",\")\n",
    "cell7 = np.genfromtxt(\"plate2_pos1_cell1.csv\", delimiter=\",\")\n",
    "cell8 = np.genfromtxt(\"plate2_pos1_cell2.csv\", delimiter=\",\")\n",
    "cell9 = np.genfromtxt(\"plate2_pos1_cell3.csv\", delimiter=\",\")\n",
    "cell10 = np.genfromtxt(\"plate2_pos2_cell1.csv\", delimiter=\",\")\n",
    "cell11 = np.genfromtxt(\"plate2_pos2_cell2.csv\", delimiter=\",\")\n",
    "cell12 = np.genfromtxt(\"plate2_pos2_cell3.csv\", delimiter=\",\")\n",
    "cell13 = np.genfromtxt(\"plate2_pos2_cell4.csv\", delimiter=\",\")\n",
    "cell14 = np.genfromtxt(\"plate5_pos1.csv\", delimiter=\",\")\n",
    "cell15 = np.genfromtxt(\"plate5_pos2_cell1.csv\", delimiter=\",\")\n",
    "cell16 = np.genfromtxt(\"plate5_pos2_cell2.csv\", delimiter=\",\")\n",
    "cell17 = np.genfromtxt(\"plate5_pos2_cell3.csv\", delimiter=\",\")\n",
    "cell18 = np.genfromtxt(\"plate5_pos2_cell4.csv\", delimiter=\",\")\n",
    "\n",
    "cell1=cell1.transpose()\n",
    "cell2=cell2.transpose()\n",
    "cell3=cell3.transpose()\n",
    "cell4=cell4.transpose()\n",
    "cell5=cell5.transpose()\n",
    "cell6=cell6.transpose()\n",
    "cell7=cell7.transpose()\n",
    "cell8=cell8.transpose()\n",
    "cell9=cell9.transpose()\n",
    "cell10=cell10.transpose()\n",
    "cell11=cell11.transpose()\n",
    "cell12=cell12.transpose()\n",
    "cell13=cell13.transpose()\n",
    "cell14=cell14.transpose()\n",
    "cell15=cell15.transpose()\n",
    "cell16=cell16.transpose()\n",
    "cell17=cell17.transpose()\n",
    "cell18=cell18.transpose()\n",
    "\n",
    "\n",
    "\n"
   ]
  },
  {
   "cell_type": "code",
   "execution_count": 3,
   "metadata": {
    "collapsed": false
   },
   "outputs": [],
   "source": [
    "cell1=np.nan_to_num(cell1)\n",
    "cell2=np.nan_to_num(cell2)\n",
    "cell3=np.nan_to_num(cell3)\n",
    "cell4=np.nan_to_num(cell4)\n",
    "cell5=np.nan_to_num(cell5)\n",
    "cell6=np.nan_to_num(cell6)\n",
    "cell7=np.nan_to_num(cell7)\n",
    "cell8=np.nan_to_num(cell8)\n",
    "cell9=np.nan_to_num(cell9)\n",
    "cell10=np.nan_to_num(cell10)\n",
    "cell11=np.nan_to_num(cell11)\n",
    "cell12=np.nan_to_num(cell12)\n",
    "cell13=np.nan_to_num(cell13)\n",
    "cell14=np.nan_to_num(cell14)\n",
    "cell15=np.nan_to_num(cell15)\n",
    "cell16=np.nan_to_num(cell16)\n",
    "cell17=np.nan_to_num(cell17)\n",
    "cell18=np.nan_to_num(cell18)\n",
    "\n",
    "\n",
    "f1=interp1d(cell1[0],cell1[1])\n",
    "f2=interp1d(cell2[0],cell2[1])\n",
    "f3=interp1d(cell3[0],cell3[1])\n",
    "f4=interp1d(cell4[0],cell4[1])\n",
    "f5=interp1d(cell5[0],cell5[1])\n",
    "f6=interp1d(cell6[0],cell6[1])\n",
    "f7=interp1d(cell7[0],cell7[1])\n",
    "f8=interp1d(cell8[0],cell8[1])\n",
    "f9=interp1d(cell9[0],cell9[1])\n",
    "f10=interp1d(cell10[0],cell10[1])\n",
    "f11=interp1d(cell11[0],cell11[1])\n",
    "f12=interp1d(cell12[0],cell12[1])\n",
    "f13=interp1d(cell13[0],cell13[1])\n",
    "f14=interp1d(cell14[0],cell14[1])\n",
    "f15=interp1d(cell15[0],cell15[1])\n",
    "f16=interp1d(cell16[0],cell16[1])\n",
    "f17=interp1d(cell17[0],cell17[1])\n",
    "f18=interp1d(cell18[0],cell18[1])\n",
    "\n",
    "#Make 20 second x-interval array for plotting the average function:\n",
    "x20sec=np.linspace(0,800,num=41,endpoint=True)\n"
   ]
  },
  {
   "cell_type": "code",
   "execution_count": 23,
   "metadata": {
    "collapsed": false
   },
   "outputs": [],
   "source": [
    "matplotlib.rcParams['mathtext.fontset'] = 'custom'\n",
    "matplotlib.rcParams['mathtext.rm'] = 'Bitstream Vera Sans'\n",
    "matplotlib.rcParams['mathtext.it'] = 'Bitstream Vera Sans:italic'\n",
    "matplotlib.rcParams['mathtext.bf'] = 'Bitstream Vera Sans:bold'\n",
    "\n",
    "\n",
    "y=[]\n",
    "for j in x20sec:\n",
    "    y.append([f1(j),f2(j),f3(j),f4(j),f5(j),f6(j),f7(j),f8(j),f9(j),f10(j),f11(j),f12(j),f13(j),f14(j),f15(j),f16(j),f17(j),f18(j)])\n",
    "    \n",
    "y=np.asarray(y)\n",
    "\n",
    "yav=[]\n",
    "ystd=[]\n",
    "for a in y:\n",
    "    yav.append(np.mean(a))\n",
    "    ystd.append(np.std(a))\n",
    "    \n",
    "yav=np.asarray(yav)\n",
    "ystd=np.asarray(ystd)\n",
    "    \n",
    "\n",
    "afont = {'fontname':'Arial'}\n",
    "\n",
    "fig, ax=plt.subplots()\n",
    "ax.tick_params(labelsize=16)    \n",
    "    \n",
    "plt.plot(x20sec, yav, 'k-',linewidth=2.0)\n",
    "plt.axvline(x=120, color='k')\n",
    "plt.xlabel('seconds', fontsize=22, **afont)\n",
    "plt.ylabel('Normalized cytoplasmic fluorescence', fontsize=26, **afont)\n",
    "plt.text(130, 1.3, 'Danoprevir addition', fontsize=26, **afont)\n",
    "#plt.text(350, 0.6, r'$\\mathrm{t_{1/2}=76 \\pm 27 sec}$', fontsize=18, **afont)\n",
    "plt.fill_between(x20sec, yav-ystd, yav+ystd,\n",
    "    alpha=0.5, edgecolor='#cdc9c9', facecolor='#cdc9c9')\n",
    "plt.tick_params(top='off', bottom='on', left='on', right='off')\n",
    "\n",
    "fig.savefig('membassoc.png', format='png', dpi=1200)"
   ]
  },
  {
   "cell_type": "code",
   "execution_count": null,
   "metadata": {
    "collapsed": true
   },
   "outputs": [],
   "source": [
    "\n"
   ]
  },
  {
   "cell_type": "code",
   "execution_count": null,
   "metadata": {
    "collapsed": true
   },
   "outputs": [],
   "source": []
  }
 ],
 "metadata": {
  "kernelspec": {
   "display_name": "Python 2",
   "language": "python",
   "name": "python2"
  },
  "language_info": {
   "codemirror_mode": {
    "name": "ipython",
    "version": 2
   },
   "file_extension": ".py",
   "mimetype": "text/x-python",
   "name": "python",
   "nbconvert_exporter": "python",
   "pygments_lexer": "ipython2",
   "version": "2.7.11"
  }
 },
 "nbformat": 4,
 "nbformat_minor": 0
}
