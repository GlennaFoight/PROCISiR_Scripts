{
 "cells": [
  {
   "cell_type": "code",
   "execution_count": 9,
   "metadata": {
    "collapsed": true,
    "deletable": true,
    "editable": true
   },
   "outputs": [],
   "source": [
    "import matplotlib\n",
    "import matplotlib.pyplot as plt\n",
    "import numpy as np\n",
    "import pandas as pd\n",
    "%matplotlib inline   "
   ]
  },
  {
   "cell_type": "markdown",
   "metadata": {
    "deletable": true,
    "editable": true
   },
   "source": [
    "## Change elements below for each experiment"
   ]
  },
  {
   "cell_type": "code",
   "execution_count": 10,
   "metadata": {
    "collapsed": false,
    "deletable": true,
    "editable": true
   },
   "outputs": [],
   "source": [
    "expt='TLstables'\n",
    "wells=['Condition1','Condition2','Condition3','Condition4','Condition5','Condition6','Condition7' ]\n",
    "colors=['#ef5847','#2993ff','#64abff','#25d1f6','#71f7ff','#ffba0c','#aaaaaa']\n",
    "# g, d, dmso, asun: '#ffba0c','#ef5847','#aaaaaa','#a39cd3'\n",
    "\n",
    "inpath='Inpath_here'\n",
    "\n",
    "\n",
    "font = {'family' : 'Arial',\n",
    "        'weight' : 'normal',\n",
    "        'size'   : 16}\n",
    "\n",
    "matplotlib.rc('font', **font)\n"
   ]
  },
  {
   "cell_type": "markdown",
   "metadata": {
    "deletable": true,
    "editable": true
   },
   "source": [
    "## Read in each well for one stat and normalize each cell"
   ]
  },
  {
   "cell_type": "code",
   "execution_count": 11,
   "metadata": {
    "collapsed": false,
    "deletable": true,
    "editable": true
   },
   "outputs": [],
   "source": [
    "def normStat(stat):    \n",
    "    allwellsonestat=[]\n",
    "    for w in wells:\n",
    "        filename=inpath+w+'_'+stat+'.csv'\n",
    "        statdf=pd.read_csv(filename)\n",
    "        statdf=statdf.iloc[:,1:]   #get rid of extra index column\n",
    "        \n",
    "        for cell, data in statdf.iteritems():   #iterate over columns          \n",
    "            base=data.iloc[0]     #normalize to first frame\n",
    "            data=data/base\n",
    "            statdf[cell]=data\n",
    "                \n",
    "            \n",
    "        allwellsonestat.append(statdf)   #use list to keep in order of well\n",
    "        \n",
    "    return allwellsonestat\n",
    "        \n",
    "    "
   ]
  },
  {
   "cell_type": "markdown",
   "metadata": {
    "deletable": true,
    "editable": true
   },
   "source": [
    "## Plot all wells for each stat"
   ]
  },
  {
   "cell_type": "code",
   "execution_count": 12,
   "metadata": {
    "collapsed": false,
    "deletable": true,
    "editable": true
   },
   "outputs": [
    {
     "name": "stdout",
     "output_type": "stream",
     "text": [
      "Condition1 340\n",
      "Condition2 328\n",
      "Condition3 201\n",
      "Condition4 248\n",
      "Condition5 260\n",
      "Condition6 266\n",
      "Condition7 385\n",
      "Condition1 340\n",
      "Condition2 328\n",
      "Condition3 201\n",
      "Condition4 248\n",
      "Condition5 260\n",
      "Condition6 266\n",
      "Condition7 385\n",
      "Condition1 340\n",
      "Condition2 328\n",
      "Condition3 201\n",
      "Condition4 248\n",
      "Condition5 260\n",
      "Condition6 266\n",
      "Condition7 385\n",
      "Condition1 340\n",
      "Condition2 328\n",
      "Condition3 201\n",
      "Condition4 248\n",
      "Condition5 260\n",
      "Condition6 266\n",
      "Condition7 385\n",
      "Condition1 340\n",
      "Condition2 328\n",
      "Condition3 201\n",
      "Condition4 248\n",
      "Condition5 260\n",
      "Condition6 266\n",
      "Condition7 385\n",
      "Condition1 340\n",
      "Condition2 328\n",
      "Condition3 201\n",
      "Condition4 248\n",
      "Condition5 260\n",
      "Condition6 266\n",
      "Condition7 385\n"
     ]
    },
    {
     "data": {
      "text/plain": [
       "<matplotlib.figure.Figure at 0x116f59f90>"
      ]
     },
     "metadata": {},
     "output_type": "display_data"
    }
   ],
   "source": [
    "\n",
    "time_index=[-8,-6,-4,-2,0,2,4,6,8,10,12,14,16,18,20,22,24,26,28,30,32,34,36,38,40,42,44,46,48,50,52,54,56,58,60]\n",
    "xlabels=[-8, 0, 10, 20, 30, 40, 50, 60]\n",
    "\n",
    "for s in range(6):\n",
    "\n",
    "    stats=['Area','Perim','Circ','AR','Round','Solidity']\n",
    "\n",
    "    allwells=normStat(stats[s])   \n",
    "\n",
    "    for i, a in enumerate(allwells):\n",
    "        wellmean=a.mean(axis=1)   #mean across columns\n",
    "        #wellstd=a.std(axis=1)\n",
    "        wellstd=a.sem(axis=1)         ###SEM\n",
    "        wellmean.index=time_index\n",
    "        wellstd.index=time_index\n",
    "        numcells=len(a.columns)\n",
    "        print wells[i]+' '+str(numcells)\n",
    "        ytitle='Normalized '+stats[s]\n",
    "        \n",
    "        plt.plot(wellmean, color=colors[i], linewidth=3, label=wells[i])\n",
    "        plt.ylabel(ytitle)\n",
    "        #plt.legend(loc='upper left', fontsize=12)\n",
    "        plt.fill_between(wellstd.index.values, wellmean-wellstd, wellmean+wellstd, alpha=0.1, edgecolor='None', color=colors[i])\n",
    "        plt.xticks(xlabels)\n",
    "        plt.xlabel('Time (min)')\n",
    "        plt.axvline(x=0, linewidth=0.5, color='0.5')\n",
    "        plt.xlim([-8,60])\n",
    "        outpath='Outpath_here'\n",
    "        plt.tight_layout()\n",
    "        plt.savefig(outpath+expt+'_'+stats[s]+'.png', dpi=200)\n",
    "        \n",
    "    plt.clf()   \n",
    "\n",
    "\n",
    "\n"
   ]
  },
  {
   "cell_type": "code",
   "execution_count": null,
   "metadata": {
    "collapsed": true,
    "deletable": true,
    "editable": true
   },
   "outputs": [],
   "source": []
  }
 ],
 "metadata": {
  "kernelspec": {
   "display_name": "Python 2",
   "language": "python",
   "name": "python2"
  },
  "language_info": {
   "codemirror_mode": {
    "name": "ipython",
    "version": 2
   },
   "file_extension": ".py",
   "mimetype": "text/x-python",
   "name": "python",
   "nbconvert_exporter": "python",
   "pygments_lexer": "ipython2",
   "version": "2.7.13"
  }
 },
 "nbformat": 4,
 "nbformat_minor": 0
}
