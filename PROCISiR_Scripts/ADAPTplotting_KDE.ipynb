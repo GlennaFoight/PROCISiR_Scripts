{
 "cells": [
  {
   "cell_type": "code",
   "execution_count": 9,
   "metadata": {
    "collapsed": true,
    "deletable": true,
    "editable": true
   },
   "outputs": [],
   "source": [
    "import matplotlib\n",
    "import matplotlib.pyplot as plt\n",
    "import numpy as np\n",
    "import pandas as pd\n",
    "import seaborn as sns;\n",
    "%matplotlib inline   "
   ]
  },
  {
   "cell_type": "markdown",
   "metadata": {
    "deletable": true,
    "editable": true
   },
   "source": [
    "## Change elements below for each experiment"
   ]
  },
  {
   "cell_type": "code",
   "execution_count": 10,
   "metadata": {
    "collapsed": true,
    "deletable": true,
    "editable": true
   },
   "outputs": [],
   "source": [
    "expt='All_TL_stables'\n",
    "wells=['Condition1','Condition2','Condition3','Condition4','Condition5','Condition6','Condition7' ]\n",
    "\n",
    "colors=['#ef5847','#2993ff','#64abff','#25d1f6','#71f7ff','#ffba0c','#aaaaaa']\n",
    "# g, d, dmso, asun: '#ffba0c','#ef5847','#aaaaaa','#a39cd3'\n",
    "\n",
    "inpath='Inpath_here'\n",
    "\n",
    "\n",
    "font = {'family' : 'Arial',\n",
    "        'weight' : 'normal',\n",
    "        'size'   : 14}\n",
    "\n",
    "matplotlib.rc('font', **font)\n"
   ]
  },
  {
   "cell_type": "markdown",
   "metadata": {
    "deletable": true,
    "editable": true
   },
   "source": [
    "## Read in each well for one stat and normalize each cell"
   ]
  },
  {
   "cell_type": "code",
   "execution_count": 11,
   "metadata": {
    "collapsed": false,
    "deletable": true,
    "editable": true
   },
   "outputs": [],
   "source": [
    "def normStat(stat):    #add in passedCells for filtering by fluor\n",
    "    allwellsonestat=[]\n",
    "    for w in wells:\n",
    "        cellDeltaList=[]\n",
    "        filename=inpath+w+'_'+stat+'.csv'\n",
    "        statdf=pd.read_csv(filename)\n",
    "        statdf=statdf.iloc[:,1:]   #get rid of extra index column\n",
    "        \n",
    "        for cell, data in statdf.iteritems():   #iterate over columns\n",
    "            \n",
    "                \n",
    "            base=data.iloc[0]     #normalize to first frame\n",
    "            data=data/base\n",
    "            statdf[cell]=data\n",
    "                \n",
    "                \n",
    "            #print statdf[cell].iloc[:5]\n",
    "            #print statdf[cell].iloc[5:10]    #0-10\n",
    "            #print statdf[cell].iloc[10:15]   #10-20\n",
    "            #print statdf[cell].iloc[15:20]   #20-30\n",
    "            #print statdf[cell].iloc[20:25]    #30-40\n",
    "            #print statdf[cell].iloc[25:30]   #40-50\n",
    "            #print statdf[cell].iloc[30:]   #50-60\n",
    "                \n",
    "            ###Get delta:\n",
    "            initial5=statdf[cell].iloc[:5]\n",
    "            final5=statdf[cell].iloc[30:]    #CHANGE for different time intervals\n",
    "            initial=initial5.mean(axis=0)\n",
    "            final=final5.mean(axis=0)\n",
    "            delta=final-initial\n",
    "\n",
    "            cellDeltaList.append(delta)\n",
    "                     \n",
    "        allwellsonestat.append(cellDeltaList)\n",
    "        \n",
    "    return allwellsonestat    #list of dfs: list of wells, with df of all cells in each well\n",
    "        \n",
    "    "
   ]
  },
  {
   "cell_type": "markdown",
   "metadata": {
    "deletable": true,
    "editable": true
   },
   "source": [
    "## Plot all wells for each stat"
   ]
  },
  {
   "cell_type": "code",
   "execution_count": 12,
   "metadata": {
    "collapsed": false,
    "deletable": true,
    "editable": true
   },
   "outputs": [
    {
     "data": {
      "text/plain": [
       "<matplotlib.figure.Figure at 0x11e509d90>"
      ]
     },
     "metadata": {},
     "output_type": "display_data"
    }
   ],
   "source": [
    "\n",
    "\n",
    "for s in range(4):\n",
    "\n",
    "    stats=['Area','Perim','Circ','Solidity']\n",
    "\n",
    "    allwells=normStat(stats[s]) \n",
    "    \n",
    "    for i, a in enumerate(allwells):\n",
    "\n",
    "        xtitle='delta normalized '+stats[s]\n",
    "        ytitle='Probability'\n",
    "        ax = sns.kdeplot(a, color=colors[i])  \n",
    "        ax.set_ylabel(ytitle)\n",
    "        ax.set_xlabel(xtitle)\n",
    "   \n",
    "        outpath='Outpath_here'\n",
    "        plt.savefig(outpath+expt+'_'+stats[s]+'_delta50-60min.png', dpi=200)\n",
    "        \n",
    "    plt.clf()   \n",
    "\n",
    "\n",
    "\n"
   ]
  },
  {
   "cell_type": "code",
   "execution_count": null,
   "metadata": {
    "collapsed": true,
    "deletable": true,
    "editable": true
   },
   "outputs": [],
   "source": []
  }
 ],
 "metadata": {
  "kernelspec": {
   "display_name": "Python 2",
   "language": "python",
   "name": "python2"
  },
  "language_info": {
   "codemirror_mode": {
    "name": "ipython",
    "version": 2
   },
   "file_extension": ".py",
   "mimetype": "text/x-python",
   "name": "python",
   "nbconvert_exporter": "python",
   "pygments_lexer": "ipython2",
   "version": "2.7.13"
  }
 },
 "nbformat": 4,
 "nbformat_minor": 0
}
